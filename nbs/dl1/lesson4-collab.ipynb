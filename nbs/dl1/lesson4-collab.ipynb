{
  "nbformat": 4,
  "nbformat_minor": 0,
  "metadata": {
    "colab": {
      "name": "lesson4-collab.ipynb",
      "version": "0.3.2",
      "provenance": []
    },
    "kernelspec": {
      "name": "python3",
      "display_name": "Python 3"
    },
    "accelerator": "GPU"
  },
  "cells": [
    {
      "metadata": {
        "id": "Syu1qBo5lKmM",
        "colab_type": "code",
        "colab": {}
      },
      "cell_type": "code",
      "source": [
        "from fastai.collab import *\n",
        "from fastai.tabular import *"
      ],
      "execution_count": 0,
      "outputs": []
    },
    {
      "metadata": {
        "id": "ECdkBZH5lKme",
        "colab_type": "text"
      },
      "cell_type": "markdown",
      "source": [
        "## Collaborative filtering example"
      ]
    },
    {
      "metadata": {
        "id": "TGn6am7rlKmg",
        "colab_type": "text"
      },
      "cell_type": "markdown",
      "source": [
        "`collab` models use data in a `DataFrame` of user, items, and ratings."
      ]
    },
    {
      "metadata": {
        "id": "KlMaGjwOlKmi",
        "colab_type": "code",
        "colab": {}
      },
      "cell_type": "code",
      "source": [
        "user,item,title = 'userId','movieId','title'"
      ],
      "execution_count": 0,
      "outputs": []
    },
    {
      "metadata": {
        "id": "0KO1ljGmlKmq",
        "colab_type": "code",
        "outputId": "215ba229-4ec6-4145-a266-714ae1413989",
        "colab": {
          "base_uri": "https://localhost:8080/",
          "height": 34
        }
      },
      "cell_type": "code",
      "source": [
        "path = untar_data(URLs.ML_SAMPLE)\n",
        "path"
      ],
      "execution_count": 5,
      "outputs": [
        {
          "output_type": "execute_result",
          "data": {
            "text/plain": [
              "PosixPath('/root/.fastai/data/movie_lens_sample')"
            ]
          },
          "metadata": {
            "tags": []
          },
          "execution_count": 5
        }
      ]
    },
    {
      "metadata": {
        "id": "Ee0i44c7lKm1",
        "colab_type": "code",
        "outputId": "213f9ed7-f7cf-4f20-f54c-ee774ef8bdc9",
        "colab": {
          "base_uri": "https://localhost:8080/",
          "height": 204
        }
      },
      "cell_type": "code",
      "source": [
        "ratings = pd.read_csv(path/'ratings.csv')\n",
        "ratings.head()"
      ],
      "execution_count": 6,
      "outputs": [
        {
          "output_type": "execute_result",
          "data": {
            "text/html": [
              "<div>\n",
              "<style scoped>\n",
              "    .dataframe tbody tr th:only-of-type {\n",
              "        vertical-align: middle;\n",
              "    }\n",
              "\n",
              "    .dataframe tbody tr th {\n",
              "        vertical-align: top;\n",
              "    }\n",
              "\n",
              "    .dataframe thead th {\n",
              "        text-align: right;\n",
              "    }\n",
              "</style>\n",
              "<table border=\"1\" class=\"dataframe\">\n",
              "  <thead>\n",
              "    <tr style=\"text-align: right;\">\n",
              "      <th></th>\n",
              "      <th>userId</th>\n",
              "      <th>movieId</th>\n",
              "      <th>rating</th>\n",
              "      <th>timestamp</th>\n",
              "    </tr>\n",
              "  </thead>\n",
              "  <tbody>\n",
              "    <tr>\n",
              "      <th>0</th>\n",
              "      <td>73</td>\n",
              "      <td>1097</td>\n",
              "      <td>4.0</td>\n",
              "      <td>1255504951</td>\n",
              "    </tr>\n",
              "    <tr>\n",
              "      <th>1</th>\n",
              "      <td>561</td>\n",
              "      <td>924</td>\n",
              "      <td>3.5</td>\n",
              "      <td>1172695223</td>\n",
              "    </tr>\n",
              "    <tr>\n",
              "      <th>2</th>\n",
              "      <td>157</td>\n",
              "      <td>260</td>\n",
              "      <td>3.5</td>\n",
              "      <td>1291598691</td>\n",
              "    </tr>\n",
              "    <tr>\n",
              "      <th>3</th>\n",
              "      <td>358</td>\n",
              "      <td>1210</td>\n",
              "      <td>5.0</td>\n",
              "      <td>957481884</td>\n",
              "    </tr>\n",
              "    <tr>\n",
              "      <th>4</th>\n",
              "      <td>130</td>\n",
              "      <td>316</td>\n",
              "      <td>2.0</td>\n",
              "      <td>1138999234</td>\n",
              "    </tr>\n",
              "  </tbody>\n",
              "</table>\n",
              "</div>"
            ],
            "text/plain": [
              "   userId  movieId  rating   timestamp\n",
              "0      73     1097     4.0  1255504951\n",
              "1     561      924     3.5  1172695223\n",
              "2     157      260     3.5  1291598691\n",
              "3     358     1210     5.0   957481884\n",
              "4     130      316     2.0  1138999234"
            ]
          },
          "metadata": {
            "tags": []
          },
          "execution_count": 6
        }
      ]
    },
    {
      "metadata": {
        "id": "g4eHB_0flKm8",
        "colab_type": "text"
      },
      "cell_type": "markdown",
      "source": [
        "That's all we need to create and train a model:"
      ]
    },
    {
      "metadata": {
        "id": "hitLAvgWlKm9",
        "colab_type": "code",
        "colab": {}
      },
      "cell_type": "code",
      "source": [
        "data = CollabDataBunch.from_df(ratings, seed=42)"
      ],
      "execution_count": 0,
      "outputs": []
    },
    {
      "metadata": {
        "id": "TGEqYmaRlKnC",
        "colab_type": "code",
        "colab": {}
      },
      "cell_type": "code",
      "source": [
        "y_range = [0,5.5]"
      ],
      "execution_count": 0,
      "outputs": []
    },
    {
      "metadata": {
        "id": "Hc5Bq1kVlKnI",
        "colab_type": "code",
        "colab": {}
      },
      "cell_type": "code",
      "source": [
        "learn = collab_learner(data, n_factors=50, y_range=y_range)"
      ],
      "execution_count": 0,
      "outputs": []
    },
    {
      "metadata": {
        "id": "oBPbQJ8hlKnN",
        "colab_type": "code",
        "outputId": "ef659d6f-20be-4d24-befb-cb5425446f9c",
        "colab": {
          "base_uri": "https://localhost:8080/",
          "height": 165
        }
      },
      "cell_type": "code",
      "source": [
        "learn.fit_one_cycle(3, 5e-3)"
      ],
      "execution_count": 10,
      "outputs": [
        {
          "output_type": "display_data",
          "data": {
            "text/html": [
              "Total time: 00:02 <p><table border=\"1\" class=\"dataframe\">\n",
              "  <thead>\n",
              "    <tr style=\"text-align: left;\">\n",
              "      <th>epoch</th>\n",
              "      <th>train_loss</th>\n",
              "      <th>valid_loss</th>\n",
              "      <th>time</th>\n",
              "    </tr>\n",
              "  </thead>\n",
              "  <tbody>\n",
              "    <tr>\n",
              "      <td>0</td>\n",
              "      <td>1.611284</td>\n",
              "      <td>0.910302</td>\n",
              "      <td>00:00</td>\n",
              "    </tr>\n",
              "    <tr>\n",
              "      <td>1</td>\n",
              "      <td>0.849095</td>\n",
              "      <td>0.670296</td>\n",
              "      <td>00:00</td>\n",
              "    </tr>\n",
              "    <tr>\n",
              "      <td>2</td>\n",
              "      <td>0.650896</td>\n",
              "      <td>0.661460</td>\n",
              "      <td>00:00</td>\n",
              "    </tr>\n",
              "  </tbody>\n",
              "</table>"
            ],
            "text/plain": [
              "<IPython.core.display.HTML object>"
            ]
          },
          "metadata": {
            "tags": []
          }
        }
      ]
    },
    {
      "metadata": {
        "id": "Fmds2LLolKnX",
        "colab_type": "text"
      },
      "cell_type": "markdown",
      "source": [
        "## Movielens 100k"
      ]
    },
    {
      "metadata": {
        "id": "Af3oNhe6lKnY",
        "colab_type": "text"
      },
      "cell_type": "markdown",
      "source": [
        "Let's try with the full Movielens 100k data dataset, available from http://files.grouplens.org/datasets/movielens/ml-100k.zip"
      ]
    },
    {
      "metadata": {
        "id": "xwzwMusUQQir",
        "colab_type": "code",
        "outputId": "c5ba87a6-2a79-4c72-a1c8-eb2c11960afb",
        "colab": {
          "resources": {
            "http://localhost:8080/nbextensions/google.colab/files.js": {
              "data": "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",
              "ok": true,
              "headers": [
                [
                  "content-type",
                  "application/javascript"
                ]
              ],
              "status": 200,
              "status_text": "OK"
            }
          },
          "base_uri": "https://localhost:8080/",
          "height": 91
        }
      },
      "cell_type": "code",
      "source": [
        "from google.colab import files\n",
        "\n",
        "uploaded = files.upload()\n",
        "\n",
        "for fn in uploaded.keys():\n",
        "  print('User uploaded file \"{name}\" with length {length} bytes'.format(\n",
        "      name=fn, length=len(uploaded[fn])))"
      ],
      "execution_count": 25,
      "outputs": [
        {
          "output_type": "display_data",
          "data": {
            "text/html": [
              "\n",
              "     <input type=\"file\" id=\"files-7f60ff1f-f3f2-459f-b089-082709aaf4fe\" name=\"files[]\" multiple disabled />\n",
              "     <output id=\"result-7f60ff1f-f3f2-459f-b089-082709aaf4fe\">\n",
              "      Upload widget is only available when the cell has been executed in the\n",
              "      current browser session. Please rerun this cell to enable.\n",
              "      </output>\n",
              "      <script src=\"/nbextensions/google.colab/files.js\"></script> "
            ],
            "text/plain": [
              "<IPython.core.display.HTML object>"
            ]
          },
          "metadata": {
            "tags": []
          }
        },
        {
          "output_type": "stream",
          "text": [
            "Saving ml-100k.zip to ml-100k.zip\n",
            "User uploaded file \"ml-100k.zip\" with length 4924029 bytes\n"
          ],
          "name": "stdout"
        }
      ]
    },
    {
      "metadata": {
        "id": "-kyiuO4CVrIX",
        "colab_type": "code",
        "outputId": "f8393458-299c-41f9-f81b-8d19d77f332a",
        "colab": {
          "base_uri": "https://localhost:8080/",
          "height": 122
        }
      },
      "cell_type": "code",
      "source": [
        "from google.colab import drive\n",
        "drive.mount('/content/gdrive')"
      ],
      "execution_count": 11,
      "outputs": [
        {
          "output_type": "stream",
          "text": [
            "Go to this URL in a browser: https://accounts.google.com/o/oauth2/auth?client_id=947318989803-6bn6qk8qdgf4n4g3pfee6491hc0brc4i.apps.googleusercontent.com&redirect_uri=urn%3Aietf%3Awg%3Aoauth%3A2.0%3Aoob&scope=email%20https%3A%2F%2Fwww.googleapis.com%2Fauth%2Fdocs.test%20https%3A%2F%2Fwww.googleapis.com%2Fauth%2Fdrive%20https%3A%2F%2Fwww.googleapis.com%2Fauth%2Fdrive.photos.readonly%20https%3A%2F%2Fwww.googleapis.com%2Fauth%2Fpeopleapi.readonly&response_type=code\n",
            "\n",
            "Enter your authorization code:\n",
            "··········\n",
            "Mounted at /content/gdrive\n"
          ],
          "name": "stdout"
        }
      ]
    },
    {
      "metadata": {
        "id": "rLwfSlx-lqGl",
        "colab_type": "code",
        "colab": {
          "base_uri": "https://localhost:8080/",
          "height": 34
        },
        "outputId": "7703aabe-4ba7-4995-d556-3e3a2159b2ea"
      },
      "cell_type": "code",
      "source": [
        "!ls /content"
      ],
      "execution_count": 26,
      "outputs": [
        {
          "output_type": "stream",
          "text": [
            "gdrive\tml-100k.zip  models  sample_data\n"
          ],
          "name": "stdout"
        }
      ]
    },
    {
      "metadata": {
        "id": "iojQtHNimw73",
        "colab_type": "code",
        "colab": {}
      },
      "cell_type": "code",
      "source": [
        "!mv 'ml-100k.zip' gdrive/'My Drive'"
      ],
      "execution_count": 0,
      "outputs": []
    },
    {
      "metadata": {
        "id": "4IdLts1Xm0jT",
        "colab_type": "code",
        "colab": {
          "base_uri": "https://localhost:8080/",
          "height": 1122
        },
        "outputId": "be2cca5c-b901-4aa5-a18c-b233066ac8d8"
      },
      "cell_type": "code",
      "source": [
        "!ls /content/gdrive/'My Drive'"
      ],
      "execution_count": 32,
      "outputs": [
        {
          "output_type": "stream",
          "text": [
            "'997419119, MIE1622H Assignment 2.zip'\n",
            " Andy_Field_Jeremy_Miles_Zoe_Field_Discovering_Stat.pdf\n",
            "'APS106 Game Project.gdoc'\n",
            "'APS112-2012-Tut126- Andrew Mwangi- Portfolio-Final Version.gdoc'\n",
            "\"Business Economics Q and A's\"\n",
            " calls-20170522151956.xml\n",
            " calls.xsl\n",
            "'Captains Shared'\n",
            " Certificate.pdf\n",
            "'CO2 and Global Warming_2906112.ppt - Document Viewer'\n",
            "'Colab Notebooks'\n",
            "'Computational Finance'\n",
            "'Copy of APS 112 - Tut 126 - Project 148 - FDS FINAL.gdoc'\n",
            "'Courses for Grad School.gsheet'\n",
            " fastai-v3\n",
            "'final exam happy engineer.pdf'\n",
            "'Financial Engineering'\n",
            " foo.txt\n",
            " Game\n",
            "'game 3.dev'\n",
            "'GAME NEW'\n",
            "'Group 21 Styrene Production'\n",
            " imdb_sample\n",
            " JRE410.gdoc\n",
            " lesson_2\n",
            "'Life Plan.gsheet'\n",
            "'Lower Limit Detection.gdoc'\n",
            "'midterm solutions.pdf'\n",
            " miguel-cover.3gp\n",
            " ml-100k.zip\n",
            "'Montreal Trip Expenses.gsheet'\n",
            "'MSFD Project'\n",
            "'My Saved Places.gmap'\n",
            " network_final-gaussian-n2n.pickle\n",
            " Noise2Noise\n",
            " OAN.gdoc\n",
            "'Petroleum Engineering'\n",
            "'Photo album.gslides'\n",
            " Pitch.gslides\n",
            "'Plant Design - Reclamation Project (Team 6) '\n",
            "'Platform Draft 3.docx'\n",
            "'project 2.jpg'\n",
            "'Project Management Project.docx'\n",
            "'Project Management Project.gdoc'\n",
            " psych.pdf\n",
            "'Roommate expenses.gsheet'\n",
            "'Sample file'\n",
            " shortcut_to_shred_e-book_revised_9-9-2015.pdf\n",
            "'Skinny Man Workout.xlsx'\n",
            " sms-20170522151956.xml\n",
            " sms.xsl\n",
            "'Speech DataIKU.gdoc'\n",
            "'Status Report Template.pdf'\n",
            "'Styrene Production Group 21.gdoc'\n",
            "'Summer Trip.gsheet'\n",
            " taxforms2017.pdf\n",
            "'Team Strats Group Project 2014'\n",
            "'Thermo Presentation'\n",
            "'To-do list.gsheet'\n",
            " transferdocuments.pdf\n",
            "'Travel planner.gsheet'\n",
            " Untitled0.ipynb\n",
            " Untitled1.ipynb\n",
            "'Untitled spreadsheet (1).gsheet'\n",
            "'Untitled spreadsheet.gsheet'\n"
          ],
          "name": "stdout"
        }
      ]
    },
    {
      "metadata": {
        "id": "-xmHcbDMmBNo",
        "colab_type": "code",
        "colab": {}
      },
      "cell_type": "code",
      "source": [
        "from google.colab import files\n",
        "\n",
        "uploaded = files.upload()\n",
        "\n",
        "for fn in uploaded.keys():\n",
        "  print('User uploaded file \"{name}\" with length {length} bytes'.format(\n",
        "      name=fn, length=len(uploaded[fn])))"
      ],
      "execution_count": 0,
      "outputs": []
    },
    {
      "metadata": {
        "id": "fhxX9Z26WT5B",
        "colab_type": "code",
        "colab": {}
      },
      "cell_type": "code",
      "source": [
        "!mv 'ml-100k.zip' /gdrive/'My Drive'"
      ],
      "execution_count": 0,
      "outputs": []
    },
    {
      "metadata": {
        "id": "dEXlOqxKXqPw",
        "colab_type": "code",
        "outputId": "fcc5e9bc-bd30-4fd0-9857-f773b9bdb5c9",
        "colab": {
          "base_uri": "https://localhost:8080/",
          "height": 1105
        }
      },
      "cell_type": "code",
      "source": [
        "!ls /content/gdrive/'My Drive'"
      ],
      "execution_count": 22,
      "outputs": [
        {
          "output_type": "stream",
          "text": [
            "'997419119, MIE1622H Assignment 2.zip'\n",
            " Andy_Field_Jeremy_Miles_Zoe_Field_Discovering_Stat.pdf\n",
            "'APS106 Game Project.gdoc'\n",
            "'APS112-2012-Tut126- Andrew Mwangi- Portfolio-Final Version.gdoc'\n",
            "\"Business Economics Q and A's\"\n",
            " calls-20170522151956.xml\n",
            " calls.xsl\n",
            "'Captains Shared'\n",
            " Certificate.pdf\n",
            "'CO2 and Global Warming_2906112.ppt - Document Viewer'\n",
            "'Colab Notebooks'\n",
            "'Computational Finance'\n",
            "'Copy of APS 112 - Tut 126 - Project 148 - FDS FINAL.gdoc'\n",
            "'Courses for Grad School.gsheet'\n",
            " fastai-v3\n",
            "'final exam happy engineer.pdf'\n",
            "'Financial Engineering'\n",
            " foo.txt\n",
            " Game\n",
            "'game 3.dev'\n",
            "'GAME NEW'\n",
            "'Group 21 Styrene Production'\n",
            " imdb_sample\n",
            " JRE410.gdoc\n",
            " lesson_2\n",
            "'Life Plan.gsheet'\n",
            "'Lower Limit Detection.gdoc'\n",
            "'midterm solutions.pdf'\n",
            " miguel-cover.3gp\n",
            "'Montreal Trip Expenses.gsheet'\n",
            "'MSFD Project'\n",
            "'My Saved Places.gmap'\n",
            " network_final-gaussian-n2n.pickle\n",
            " Noise2Noise\n",
            " OAN.gdoc\n",
            "'Petroleum Engineering'\n",
            "'Photo album.gslides'\n",
            " Pitch.gslides\n",
            "'Plant Design - Reclamation Project (Team 6) '\n",
            "'Platform Draft 3.docx'\n",
            "'project 2.jpg'\n",
            "'Project Management Project.docx'\n",
            "'Project Management Project.gdoc'\n",
            " psych.pdf\n",
            "'Roommate expenses.gsheet'\n",
            "'Sample file'\n",
            " shortcut_to_shred_e-book_revised_9-9-2015.pdf\n",
            "'Skinny Man Workout.xlsx'\n",
            " sms-20170522151956.xml\n",
            " sms.xsl\n",
            "'Speech DataIKU.gdoc'\n",
            "'Status Report Template.pdf'\n",
            "'Styrene Production Group 21.gdoc'\n",
            "'Summer Trip.gsheet'\n",
            " taxforms2017.pdf\n",
            "'Team Strats Group Project 2014'\n",
            "'Thermo Presentation'\n",
            "'To-do list.gsheet'\n",
            " transferdocuments.pdf\n",
            "'Travel planner.gsheet'\n",
            " Untitled0.ipynb\n",
            " Untitled1.ipynb\n",
            "'Untitled spreadsheet (1).gsheet'\n",
            "'Untitled spreadsheet.gsheet'\n"
          ],
          "name": "stdout"
        }
      ]
    },
    {
      "metadata": {
        "id": "lDrF8888Xm8t",
        "colab_type": "code",
        "outputId": "e3f5a7a1-d751-43b8-fcf1-55b1d0486610",
        "colab": {
          "base_uri": "https://localhost:8080/",
          "height": 34
        }
      },
      "cell_type": "code",
      "source": [
        "!ls  /content/gdrive/'My Drive'/'ml-100k.zip'"
      ],
      "execution_count": 35,
      "outputs": [
        {
          "output_type": "stream",
          "text": [
            "'/content/gdrive/My Drive/ml-100k.zip'\n"
          ],
          "name": "stdout"
        }
      ]
    },
    {
      "metadata": {
        "id": "wO0QyyB-5IPY",
        "colab_type": "code",
        "colab": {}
      },
      "cell_type": "code",
      "source": [
        "path_to_zip_file = \"/content/gdrive/'My Drive'/'ml-100k.zip'\"\n",
        "directory_to_extract_to = \"/content/gdrive/'My Drive'/'ml-100k'\""
      ],
      "execution_count": 0,
      "outputs": []
    },
    {
      "metadata": {
        "id": "2sUucvu_520W",
        "colab_type": "code",
        "colab": {
          "base_uri": "https://localhost:8080/",
          "height": 442
        },
        "outputId": "99f54469-326d-41f7-93e4-6307542a3723"
      },
      "cell_type": "code",
      "source": [
        "!unzip  /content/gdrive/'My Drive'/'ml-100k.zip'"
      ],
      "execution_count": 41,
      "outputs": [
        {
          "output_type": "stream",
          "text": [
            "Archive:  /content/gdrive/My Drive/ml-100k.zip\n",
            "   creating: ml-100k/\n",
            "  inflating: ml-100k/allbut.pl       \n",
            "  inflating: ml-100k/mku.sh          \n",
            "  inflating: ml-100k/README          \n",
            "  inflating: ml-100k/u.data          \n",
            "  inflating: ml-100k/u.genre         \n",
            "  inflating: ml-100k/u.info          \n",
            "  inflating: ml-100k/u.item          \n",
            "  inflating: ml-100k/u.occupation    \n",
            "  inflating: ml-100k/u.user          \n",
            "  inflating: ml-100k/u1.base         \n",
            "  inflating: ml-100k/u1.test         \n",
            "  inflating: ml-100k/u2.base         \n",
            "  inflating: ml-100k/u2.test         \n",
            "  inflating: ml-100k/u3.base         \n",
            "  inflating: ml-100k/u3.test         \n",
            "  inflating: ml-100k/u4.base         \n",
            "  inflating: ml-100k/u4.test         \n",
            "  inflating: ml-100k/u5.base         \n",
            "  inflating: ml-100k/u5.test         \n",
            "  inflating: ml-100k/ua.base         \n",
            "  inflating: ml-100k/ua.test         \n",
            "  inflating: ml-100k/ub.base         \n",
            "  inflating: ml-100k/ub.test         \n"
          ],
          "name": "stdout"
        }
      ]
    },
    {
      "metadata": {
        "id": "CQCe6at46Fa1",
        "colab_type": "code",
        "colab": {}
      },
      "cell_type": "code",
      "source": [
        "!mv 'ml-100k' gdrive/'My Drive'"
      ],
      "execution_count": 0,
      "outputs": []
    },
    {
      "metadata": {
        "id": "868KK18FQ2iW",
        "colab_type": "code",
        "colab": {
          "base_uri": "https://localhost:8080/",
          "height": 34
        },
        "outputId": "b80496f0-f0ad-463f-abea-775f9774145c"
      },
      "cell_type": "code",
      "source": [
        "!ls /content/gdrive/'My Drive'/'ml-100k'/u.data"
      ],
      "execution_count": 68,
      "outputs": [
        {
          "output_type": "stream",
          "text": [
            "'/content/gdrive/My Drive/ml-100k/u.data'\n"
          ],
          "name": "stdout"
        }
      ]
    },
    {
      "metadata": {
        "id": "Fj1J9sVq_DKH",
        "colab_type": "code",
        "colab": {
          "base_uri": "https://localhost:8080/",
          "height": 180
        },
        "outputId": "e3e6b3ae-0855-4f1b-ef5c-6d860b799587"
      },
      "cell_type": "code",
      "source": [
        "import io\n",
        "df2 = pd.read_csv(io.BytesIO(uploaded['u.data']))"
      ],
      "execution_count": 66,
      "outputs": [
        {
          "output_type": "error",
          "ename": "KeyError",
          "evalue": "ignored",
          "traceback": [
            "\u001b[0;31m---------------------------------------------------------------------------\u001b[0m",
            "\u001b[0;31mKeyError\u001b[0m                                  Traceback (most recent call last)",
            "\u001b[0;32m<ipython-input-66-2f946396809e>\u001b[0m in \u001b[0;36m<module>\u001b[0;34m()\u001b[0m\n\u001b[1;32m      1\u001b[0m \u001b[0;32mimport\u001b[0m \u001b[0mio\u001b[0m\u001b[0;34m\u001b[0m\u001b[0;34m\u001b[0m\u001b[0m\n\u001b[0;32m----> 2\u001b[0;31m \u001b[0mdf2\u001b[0m \u001b[0;34m=\u001b[0m \u001b[0mpd\u001b[0m\u001b[0;34m.\u001b[0m\u001b[0mread_csv\u001b[0m\u001b[0;34m(\u001b[0m\u001b[0mio\u001b[0m\u001b[0;34m.\u001b[0m\u001b[0mBytesIO\u001b[0m\u001b[0;34m(\u001b[0m\u001b[0muploaded\u001b[0m\u001b[0;34m[\u001b[0m\u001b[0;34m'u.data'\u001b[0m\u001b[0;34m]\u001b[0m\u001b[0;34m)\u001b[0m\u001b[0;34m)\u001b[0m\u001b[0;34m\u001b[0m\u001b[0;34m\u001b[0m\u001b[0m\n\u001b[0m",
            "\u001b[0;31mKeyError\u001b[0m: 'u.data'"
          ]
        }
      ]
    },
    {
      "metadata": {
        "id": "aWh13JzG_uNc",
        "colab_type": "code",
        "colab": {
          "base_uri": "https://localhost:8080/",
          "height": 68
        },
        "outputId": "8d0e0cfe-a51c-4894-bfd3-b7df3ddedf5c"
      },
      "cell_type": "code",
      "source": [
        "!ls gdrive/'My Drive'/ml-100k"
      ],
      "execution_count": 79,
      "outputs": [
        {
          "output_type": "stream",
          "text": [
            "allbut.pl  u1.base  u2.test  u4.base  u5.test  ub.base\tu.genre  u.occupation\n",
            "mku.sh\t   u1.test  u3.base  u4.test  ua.base  ub.test\tu.info\t u.user\n",
            "README\t   u2.base  u3.test  u5.base  ua.test  u.data\tu.item\n"
          ],
          "name": "stdout"
        }
      ]
    },
    {
      "metadata": {
        "id": "aIIFdG7HALEb",
        "colab_type": "code",
        "colab": {
          "base_uri": "https://localhost:8080/",
          "height": 1156
        },
        "outputId": "7c21e389-c106-4f47-cccb-159200beb687"
      },
      "cell_type": "code",
      "source": [
        "!ls gdrive/'My Drive'"
      ],
      "execution_count": 93,
      "outputs": [
        {
          "output_type": "stream",
          "text": [
            "'997419119, MIE1622H Assignment 2.zip'\n",
            " Andy_Field_Jeremy_Miles_Zoe_Field_Discovering_Stat.pdf\n",
            "'APS106 Game Project.gdoc'\n",
            "'APS112-2012-Tut126- Andrew Mwangi- Portfolio-Final Version.gdoc'\n",
            "\"Business Economics Q and A's\"\n",
            " california_housing_test.csv\n",
            " calls-20170522151956.xml\n",
            " calls.xsl\n",
            "'Captains Shared'\n",
            " Certificate.pdf\n",
            "'CO2 and Global Warming_2906112.ppt - Document Viewer'\n",
            "'Colab Notebooks'\n",
            "'Computational Finance'\n",
            "'Copy of APS 112 - Tut 126 - Project 148 - FDS FINAL.gdoc'\n",
            "'Courses for Grad School.gsheet'\n",
            " fastai-v3\n",
            "'final exam happy engineer.pdf'\n",
            "'Financial Engineering'\n",
            " foo.txt\n",
            " Game\n",
            "'game 3.dev'\n",
            "'GAME NEW'\n",
            "'Group 21 Styrene Production'\n",
            " imdb_sample\n",
            " JRE410.gdoc\n",
            " lesson_2\n",
            "'Life Plan.gsheet'\n",
            "'Lower Limit Detection.gdoc'\n",
            "'midterm solutions.pdf'\n",
            " miguel-cover.3gp\n",
            " ml-100k\n",
            " ml-100k.zip\n",
            "'Montreal Trip Expenses.gsheet'\n",
            "'MSFD Project'\n",
            "'My Saved Places.gmap'\n",
            " network_final-gaussian-n2n.pickle\n",
            " Noise2Noise\n",
            " OAN.gdoc\n",
            "'Petroleum Engineering'\n",
            "'Photo album.gslides'\n",
            " Pitch.gslides\n",
            "'Plant Design - Reclamation Project (Team 6) '\n",
            "'Platform Draft 3.docx'\n",
            "'project 2.jpg'\n",
            "'Project Management Project.docx'\n",
            "'Project Management Project.gdoc'\n",
            " psych.pdf\n",
            "'Roommate expenses.gsheet'\n",
            "'Sample file'\n",
            " shortcut_to_shred_e-book_revised_9-9-2015.pdf\n",
            "'Skinny Man Workout.xlsx'\n",
            " sms-20170522151956.xml\n",
            " sms.xsl\n",
            "'Speech DataIKU.gdoc'\n",
            "'Status Report Template.pdf'\n",
            "'Styrene Production Group 21.gdoc'\n",
            "'Summer Trip.gsheet'\n",
            " taxforms2017.pdf\n",
            "'Team Strats Group Project 2014'\n",
            "'Thermo Presentation'\n",
            "'To-do list.gsheet'\n",
            " transferdocuments.pdf\n",
            "'Travel planner.gsheet'\n",
            " Untitled0.ipynb\n",
            " Untitled1.ipynb\n",
            "'Untitled spreadsheet (1).gsheet'\n",
            "'Untitled spreadsheet.gsheet'\n"
          ],
          "name": "stdout"
        }
      ]
    },
    {
      "metadata": {
        "id": "Fw3WsSPWDJST",
        "colab_type": "code",
        "colab": {}
      },
      "cell_type": "code",
      "source": [
        "!mv sample_data/california_housing_test.csv gdrive/'My Drive'"
      ],
      "execution_count": 0,
      "outputs": []
    },
    {
      "metadata": {
        "id": "8XJWjEQE_yt_",
        "colab_type": "code",
        "colab": {
          "base_uri": "https://localhost:8080/",
          "height": 204
        },
        "outputId": "31567b88-5325-4f84-c4f4-6b543df43a8e"
      },
      "cell_type": "code",
      "source": [
        "a = pd.read_csv('sample_data/california_housing_test.csv')\n",
        "a.head()"
      ],
      "execution_count": 72,
      "outputs": [
        {
          "output_type": "execute_result",
          "data": {
            "text/html": [
              "<div>\n",
              "<style scoped>\n",
              "    .dataframe tbody tr th:only-of-type {\n",
              "        vertical-align: middle;\n",
              "    }\n",
              "\n",
              "    .dataframe tbody tr th {\n",
              "        vertical-align: top;\n",
              "    }\n",
              "\n",
              "    .dataframe thead th {\n",
              "        text-align: right;\n",
              "    }\n",
              "</style>\n",
              "<table border=\"1\" class=\"dataframe\">\n",
              "  <thead>\n",
              "    <tr style=\"text-align: right;\">\n",
              "      <th></th>\n",
              "      <th>longitude</th>\n",
              "      <th>latitude</th>\n",
              "      <th>housing_median_age</th>\n",
              "      <th>total_rooms</th>\n",
              "      <th>total_bedrooms</th>\n",
              "      <th>population</th>\n",
              "      <th>households</th>\n",
              "      <th>median_income</th>\n",
              "      <th>median_house_value</th>\n",
              "    </tr>\n",
              "  </thead>\n",
              "  <tbody>\n",
              "    <tr>\n",
              "      <th>0</th>\n",
              "      <td>-122.05</td>\n",
              "      <td>37.37</td>\n",
              "      <td>27.0</td>\n",
              "      <td>3885.0</td>\n",
              "      <td>661.0</td>\n",
              "      <td>1537.0</td>\n",
              "      <td>606.0</td>\n",
              "      <td>6.6085</td>\n",
              "      <td>344700.0</td>\n",
              "    </tr>\n",
              "    <tr>\n",
              "      <th>1</th>\n",
              "      <td>-118.30</td>\n",
              "      <td>34.26</td>\n",
              "      <td>43.0</td>\n",
              "      <td>1510.0</td>\n",
              "      <td>310.0</td>\n",
              "      <td>809.0</td>\n",
              "      <td>277.0</td>\n",
              "      <td>3.5990</td>\n",
              "      <td>176500.0</td>\n",
              "    </tr>\n",
              "    <tr>\n",
              "      <th>2</th>\n",
              "      <td>-117.81</td>\n",
              "      <td>33.78</td>\n",
              "      <td>27.0</td>\n",
              "      <td>3589.0</td>\n",
              "      <td>507.0</td>\n",
              "      <td>1484.0</td>\n",
              "      <td>495.0</td>\n",
              "      <td>5.7934</td>\n",
              "      <td>270500.0</td>\n",
              "    </tr>\n",
              "    <tr>\n",
              "      <th>3</th>\n",
              "      <td>-118.36</td>\n",
              "      <td>33.82</td>\n",
              "      <td>28.0</td>\n",
              "      <td>67.0</td>\n",
              "      <td>15.0</td>\n",
              "      <td>49.0</td>\n",
              "      <td>11.0</td>\n",
              "      <td>6.1359</td>\n",
              "      <td>330000.0</td>\n",
              "    </tr>\n",
              "    <tr>\n",
              "      <th>4</th>\n",
              "      <td>-119.67</td>\n",
              "      <td>36.33</td>\n",
              "      <td>19.0</td>\n",
              "      <td>1241.0</td>\n",
              "      <td>244.0</td>\n",
              "      <td>850.0</td>\n",
              "      <td>237.0</td>\n",
              "      <td>2.9375</td>\n",
              "      <td>81700.0</td>\n",
              "    </tr>\n",
              "  </tbody>\n",
              "</table>\n",
              "</div>"
            ],
            "text/plain": [
              "   longitude  latitude  housing_median_age  total_rooms  total_bedrooms  \\\n",
              "0    -122.05     37.37                27.0       3885.0           661.0   \n",
              "1    -118.30     34.26                43.0       1510.0           310.0   \n",
              "2    -117.81     33.78                27.0       3589.0           507.0   \n",
              "3    -118.36     33.82                28.0         67.0            15.0   \n",
              "4    -119.67     36.33                19.0       1241.0           244.0   \n",
              "\n",
              "   population  households  median_income  median_house_value  \n",
              "0      1537.0       606.0         6.6085            344700.0  \n",
              "1       809.0       277.0         3.5990            176500.0  \n",
              "2      1484.0       495.0         5.7934            270500.0  \n",
              "3        49.0        11.0         6.1359            330000.0  \n",
              "4       850.0       237.0         2.9375             81700.0  "
            ]
          },
          "metadata": {
            "tags": []
          },
          "execution_count": 72
        }
      ]
    },
    {
      "metadata": {
        "id": "rc8QAkS3DUYT",
        "colab_type": "code",
        "colab": {
          "base_uri": "https://localhost:8080/",
          "height": 204
        },
        "outputId": "70080d85-0f52-4c09-c55b-68f3d3c43dfc"
      },
      "cell_type": "code",
      "source": [
        "c= pd.read_csv(\"gdrive/My Drive/imdb_sample/texts.csv\")\n",
        "c.head()"
      ],
      "execution_count": 104,
      "outputs": [
        {
          "output_type": "execute_result",
          "data": {
            "text/html": [
              "<div>\n",
              "<style scoped>\n",
              "    .dataframe tbody tr th:only-of-type {\n",
              "        vertical-align: middle;\n",
              "    }\n",
              "\n",
              "    .dataframe tbody tr th {\n",
              "        vertical-align: top;\n",
              "    }\n",
              "\n",
              "    .dataframe thead th {\n",
              "        text-align: right;\n",
              "    }\n",
              "</style>\n",
              "<table border=\"1\" class=\"dataframe\">\n",
              "  <thead>\n",
              "    <tr style=\"text-align: right;\">\n",
              "      <th></th>\n",
              "      <th>label</th>\n",
              "      <th>text</th>\n",
              "      <th>is_valid</th>\n",
              "    </tr>\n",
              "  </thead>\n",
              "  <tbody>\n",
              "    <tr>\n",
              "      <th>0</th>\n",
              "      <td>negative</td>\n",
              "      <td>Un-bleeping-believable! Meg Ryan doesn't even ...</td>\n",
              "      <td>False</td>\n",
              "    </tr>\n",
              "    <tr>\n",
              "      <th>1</th>\n",
              "      <td>positive</td>\n",
              "      <td>This is a extremely well-made film. The acting...</td>\n",
              "      <td>False</td>\n",
              "    </tr>\n",
              "    <tr>\n",
              "      <th>2</th>\n",
              "      <td>negative</td>\n",
              "      <td>Every once in a long while a movie will come a...</td>\n",
              "      <td>False</td>\n",
              "    </tr>\n",
              "    <tr>\n",
              "      <th>3</th>\n",
              "      <td>positive</td>\n",
              "      <td>Name just says it all. I watched this movie wi...</td>\n",
              "      <td>False</td>\n",
              "    </tr>\n",
              "    <tr>\n",
              "      <th>4</th>\n",
              "      <td>negative</td>\n",
              "      <td>This movie succeeds at being one of the most u...</td>\n",
              "      <td>False</td>\n",
              "    </tr>\n",
              "  </tbody>\n",
              "</table>\n",
              "</div>"
            ],
            "text/plain": [
              "      label                                               text  is_valid\n",
              "0  negative  Un-bleeping-believable! Meg Ryan doesn't even ...     False\n",
              "1  positive  This is a extremely well-made film. The acting...     False\n",
              "2  negative  Every once in a long while a movie will come a...     False\n",
              "3  positive  Name just says it all. I watched this movie wi...     False\n",
              "4  negative  This movie succeeds at being one of the most u...     False"
            ]
          },
          "metadata": {
            "tags": []
          },
          "execution_count": 104
        }
      ]
    },
    {
      "metadata": {
        "id": "uFFyv3o5lKnh",
        "colab_type": "code",
        "outputId": "b973366c-641f-4aec-8cb0-a5c32274d34e",
        "colab": {
          "base_uri": "https://localhost:8080/",
          "height": 204
        }
      },
      "cell_type": "code",
      "source": [
        "path=\"gdrive/My Drive/ml-100k\"\n",
        "ratings = pd.read_csv(path + '/u.data', delimiter='\\t', header=None,\n",
        "                      names=[user,item,'rating','timestamp'])\n",
        "ratings.head()"
      ],
      "execution_count": 105,
      "outputs": [
        {
          "output_type": "execute_result",
          "data": {
            "text/html": [
              "<div>\n",
              "<style scoped>\n",
              "    .dataframe tbody tr th:only-of-type {\n",
              "        vertical-align: middle;\n",
              "    }\n",
              "\n",
              "    .dataframe tbody tr th {\n",
              "        vertical-align: top;\n",
              "    }\n",
              "\n",
              "    .dataframe thead th {\n",
              "        text-align: right;\n",
              "    }\n",
              "</style>\n",
              "<table border=\"1\" class=\"dataframe\">\n",
              "  <thead>\n",
              "    <tr style=\"text-align: right;\">\n",
              "      <th></th>\n",
              "      <th>userId</th>\n",
              "      <th>movieId</th>\n",
              "      <th>rating</th>\n",
              "      <th>timestamp</th>\n",
              "    </tr>\n",
              "  </thead>\n",
              "  <tbody>\n",
              "    <tr>\n",
              "      <th>0</th>\n",
              "      <td>196</td>\n",
              "      <td>242</td>\n",
              "      <td>3</td>\n",
              "      <td>881250949</td>\n",
              "    </tr>\n",
              "    <tr>\n",
              "      <th>1</th>\n",
              "      <td>186</td>\n",
              "      <td>302</td>\n",
              "      <td>3</td>\n",
              "      <td>891717742</td>\n",
              "    </tr>\n",
              "    <tr>\n",
              "      <th>2</th>\n",
              "      <td>22</td>\n",
              "      <td>377</td>\n",
              "      <td>1</td>\n",
              "      <td>878887116</td>\n",
              "    </tr>\n",
              "    <tr>\n",
              "      <th>3</th>\n",
              "      <td>244</td>\n",
              "      <td>51</td>\n",
              "      <td>2</td>\n",
              "      <td>880606923</td>\n",
              "    </tr>\n",
              "    <tr>\n",
              "      <th>4</th>\n",
              "      <td>166</td>\n",
              "      <td>346</td>\n",
              "      <td>1</td>\n",
              "      <td>886397596</td>\n",
              "    </tr>\n",
              "  </tbody>\n",
              "</table>\n",
              "</div>"
            ],
            "text/plain": [
              "   userId  movieId  rating  timestamp\n",
              "0     196      242       3  881250949\n",
              "1     186      302       3  891717742\n",
              "2      22      377       1  878887116\n",
              "3     244       51       2  880606923\n",
              "4     166      346       1  886397596"
            ]
          },
          "metadata": {
            "tags": []
          },
          "execution_count": 105
        }
      ]
    },
    {
      "metadata": {
        "id": "A4LcNmP-lKno",
        "colab_type": "code",
        "outputId": "f5b4bb6e-35b1-46de-c0a0-2864a0ea5db7",
        "colab": {
          "base_uri": "https://localhost:8080/",
          "height": 423
        }
      },
      "cell_type": "code",
      "source": [
        "movies = pd.read_csv(path +'/u.item',  delimiter='|', encoding='latin-1', header=None,\n",
        "                    names=[item, 'title', 'date', 'N', 'url', *[f'g{i}' for i in range(19)]])\n",
        "movies.head()"
      ],
      "execution_count": 0,
      "outputs": [
        {
          "output_type": "execute_result",
          "data": {
            "text/html": [
              "<div>\n",
              "<style scoped>\n",
              "    .dataframe tbody tr th:only-of-type {\n",
              "        vertical-align: middle;\n",
              "    }\n",
              "\n",
              "    .dataframe tbody tr th {\n",
              "        vertical-align: top;\n",
              "    }\n",
              "\n",
              "    .dataframe thead th {\n",
              "        text-align: right;\n",
              "    }\n",
              "</style>\n",
              "<table border=\"1\" class=\"dataframe\">\n",
              "  <thead>\n",
              "    <tr style=\"text-align: right;\">\n",
              "      <th></th>\n",
              "      <th>movieId</th>\n",
              "      <th>title</th>\n",
              "      <th>date</th>\n",
              "      <th>N</th>\n",
              "      <th>url</th>\n",
              "      <th>g0</th>\n",
              "      <th>g1</th>\n",
              "      <th>g2</th>\n",
              "      <th>g3</th>\n",
              "      <th>g4</th>\n",
              "      <th>...</th>\n",
              "      <th>g9</th>\n",
              "      <th>g10</th>\n",
              "      <th>g11</th>\n",
              "      <th>g12</th>\n",
              "      <th>g13</th>\n",
              "      <th>g14</th>\n",
              "      <th>g15</th>\n",
              "      <th>g16</th>\n",
              "      <th>g17</th>\n",
              "      <th>g18</th>\n",
              "    </tr>\n",
              "  </thead>\n",
              "  <tbody>\n",
              "    <tr>\n",
              "      <th>0</th>\n",
              "      <td>1</td>\n",
              "      <td>Toy Story (1995)</td>\n",
              "      <td>01-Jan-1995</td>\n",
              "      <td>NaN</td>\n",
              "      <td>http://us.imdb.com/M/title-exact?Toy%20Story%2...</td>\n",
              "      <td>0</td>\n",
              "      <td>0</td>\n",
              "      <td>0</td>\n",
              "      <td>1</td>\n",
              "      <td>1</td>\n",
              "      <td>...</td>\n",
              "      <td>0</td>\n",
              "      <td>0</td>\n",
              "      <td>0</td>\n",
              "      <td>0</td>\n",
              "      <td>0</td>\n",
              "      <td>0</td>\n",
              "      <td>0</td>\n",
              "      <td>0</td>\n",
              "      <td>0</td>\n",
              "      <td>0</td>\n",
              "    </tr>\n",
              "    <tr>\n",
              "      <th>1</th>\n",
              "      <td>2</td>\n",
              "      <td>GoldenEye (1995)</td>\n",
              "      <td>01-Jan-1995</td>\n",
              "      <td>NaN</td>\n",
              "      <td>http://us.imdb.com/M/title-exact?GoldenEye%20(...</td>\n",
              "      <td>0</td>\n",
              "      <td>1</td>\n",
              "      <td>1</td>\n",
              "      <td>0</td>\n",
              "      <td>0</td>\n",
              "      <td>...</td>\n",
              "      <td>0</td>\n",
              "      <td>0</td>\n",
              "      <td>0</td>\n",
              "      <td>0</td>\n",
              "      <td>0</td>\n",
              "      <td>0</td>\n",
              "      <td>0</td>\n",
              "      <td>1</td>\n",
              "      <td>0</td>\n",
              "      <td>0</td>\n",
              "    </tr>\n",
              "    <tr>\n",
              "      <th>2</th>\n",
              "      <td>3</td>\n",
              "      <td>Four Rooms (1995)</td>\n",
              "      <td>01-Jan-1995</td>\n",
              "      <td>NaN</td>\n",
              "      <td>http://us.imdb.com/M/title-exact?Four%20Rooms%...</td>\n",
              "      <td>0</td>\n",
              "      <td>0</td>\n",
              "      <td>0</td>\n",
              "      <td>0</td>\n",
              "      <td>0</td>\n",
              "      <td>...</td>\n",
              "      <td>0</td>\n",
              "      <td>0</td>\n",
              "      <td>0</td>\n",
              "      <td>0</td>\n",
              "      <td>0</td>\n",
              "      <td>0</td>\n",
              "      <td>0</td>\n",
              "      <td>1</td>\n",
              "      <td>0</td>\n",
              "      <td>0</td>\n",
              "    </tr>\n",
              "    <tr>\n",
              "      <th>3</th>\n",
              "      <td>4</td>\n",
              "      <td>Get Shorty (1995)</td>\n",
              "      <td>01-Jan-1995</td>\n",
              "      <td>NaN</td>\n",
              "      <td>http://us.imdb.com/M/title-exact?Get%20Shorty%...</td>\n",
              "      <td>0</td>\n",
              "      <td>1</td>\n",
              "      <td>0</td>\n",
              "      <td>0</td>\n",
              "      <td>0</td>\n",
              "      <td>...</td>\n",
              "      <td>0</td>\n",
              "      <td>0</td>\n",
              "      <td>0</td>\n",
              "      <td>0</td>\n",
              "      <td>0</td>\n",
              "      <td>0</td>\n",
              "      <td>0</td>\n",
              "      <td>0</td>\n",
              "      <td>0</td>\n",
              "      <td>0</td>\n",
              "    </tr>\n",
              "    <tr>\n",
              "      <th>4</th>\n",
              "      <td>5</td>\n",
              "      <td>Copycat (1995)</td>\n",
              "      <td>01-Jan-1995</td>\n",
              "      <td>NaN</td>\n",
              "      <td>http://us.imdb.com/M/title-exact?Copycat%20(1995)</td>\n",
              "      <td>0</td>\n",
              "      <td>0</td>\n",
              "      <td>0</td>\n",
              "      <td>0</td>\n",
              "      <td>0</td>\n",
              "      <td>...</td>\n",
              "      <td>0</td>\n",
              "      <td>0</td>\n",
              "      <td>0</td>\n",
              "      <td>0</td>\n",
              "      <td>0</td>\n",
              "      <td>0</td>\n",
              "      <td>0</td>\n",
              "      <td>1</td>\n",
              "      <td>0</td>\n",
              "      <td>0</td>\n",
              "    </tr>\n",
              "  </tbody>\n",
              "</table>\n",
              "<p>5 rows × 24 columns</p>\n",
              "</div>"
            ],
            "text/plain": [
              "   movieId              title         date   N  \\\n",
              "0        1   Toy Story (1995)  01-Jan-1995 NaN   \n",
              "1        2   GoldenEye (1995)  01-Jan-1995 NaN   \n",
              "2        3  Four Rooms (1995)  01-Jan-1995 NaN   \n",
              "3        4  Get Shorty (1995)  01-Jan-1995 NaN   \n",
              "4        5     Copycat (1995)  01-Jan-1995 NaN   \n",
              "\n",
              "                                                 url  g0  g1  g2  g3  g4 ...   \\\n",
              "0  http://us.imdb.com/M/title-exact?Toy%20Story%2...   0   0   0   1   1 ...    \n",
              "1  http://us.imdb.com/M/title-exact?GoldenEye%20(...   0   1   1   0   0 ...    \n",
              "2  http://us.imdb.com/M/title-exact?Four%20Rooms%...   0   0   0   0   0 ...    \n",
              "3  http://us.imdb.com/M/title-exact?Get%20Shorty%...   0   1   0   0   0 ...    \n",
              "4  http://us.imdb.com/M/title-exact?Copycat%20(1995)   0   0   0   0   0 ...    \n",
              "\n",
              "   g9  g10  g11  g12  g13  g14  g15  g16  g17  g18  \n",
              "0   0    0    0    0    0    0    0    0    0    0  \n",
              "1   0    0    0    0    0    0    0    1    0    0  \n",
              "2   0    0    0    0    0    0    0    1    0    0  \n",
              "3   0    0    0    0    0    0    0    0    0    0  \n",
              "4   0    0    0    0    0    0    0    1    0    0  \n",
              "\n",
              "[5 rows x 24 columns]"
            ]
          },
          "metadata": {
            "tags": []
          },
          "execution_count": 57
        }
      ]
    },
    {
      "metadata": {
        "id": "Jlr_vpORlKnx",
        "colab_type": "code",
        "outputId": "ba532ee0-765b-483f-87be-f5da8d939a59",
        "colab": {
          "base_uri": "https://localhost:8080/",
          "height": 35
        }
      },
      "cell_type": "code",
      "source": [
        "len(ratings)"
      ],
      "execution_count": 0,
      "outputs": [
        {
          "output_type": "execute_result",
          "data": {
            "text/plain": [
              "100000"
            ]
          },
          "metadata": {
            "tags": []
          },
          "execution_count": 58
        }
      ]
    },
    {
      "metadata": {
        "id": "0mI0HGjblKn8",
        "colab_type": "code",
        "outputId": "ebaf3ee8-57a5-43a6-9b24-dd008726e1df",
        "colab": {
          "base_uri": "https://localhost:8080/",
          "height": 204
        }
      },
      "cell_type": "code",
      "source": [
        "rating_movie = ratings.merge(movies[[item, title]])\n",
        "rating_movie.head()"
      ],
      "execution_count": 0,
      "outputs": [
        {
          "output_type": "execute_result",
          "data": {
            "text/html": [
              "<div>\n",
              "<style scoped>\n",
              "    .dataframe tbody tr th:only-of-type {\n",
              "        vertical-align: middle;\n",
              "    }\n",
              "\n",
              "    .dataframe tbody tr th {\n",
              "        vertical-align: top;\n",
              "    }\n",
              "\n",
              "    .dataframe thead th {\n",
              "        text-align: right;\n",
              "    }\n",
              "</style>\n",
              "<table border=\"1\" class=\"dataframe\">\n",
              "  <thead>\n",
              "    <tr style=\"text-align: right;\">\n",
              "      <th></th>\n",
              "      <th>userId</th>\n",
              "      <th>movieId</th>\n",
              "      <th>rating</th>\n",
              "      <th>timestamp</th>\n",
              "      <th>title</th>\n",
              "    </tr>\n",
              "  </thead>\n",
              "  <tbody>\n",
              "    <tr>\n",
              "      <th>0</th>\n",
              "      <td>196</td>\n",
              "      <td>242</td>\n",
              "      <td>3</td>\n",
              "      <td>881250949</td>\n",
              "      <td>Kolya (1996)</td>\n",
              "    </tr>\n",
              "    <tr>\n",
              "      <th>1</th>\n",
              "      <td>63</td>\n",
              "      <td>242</td>\n",
              "      <td>3</td>\n",
              "      <td>875747190</td>\n",
              "      <td>Kolya (1996)</td>\n",
              "    </tr>\n",
              "    <tr>\n",
              "      <th>2</th>\n",
              "      <td>226</td>\n",
              "      <td>242</td>\n",
              "      <td>5</td>\n",
              "      <td>883888671</td>\n",
              "      <td>Kolya (1996)</td>\n",
              "    </tr>\n",
              "    <tr>\n",
              "      <th>3</th>\n",
              "      <td>154</td>\n",
              "      <td>242</td>\n",
              "      <td>3</td>\n",
              "      <td>879138235</td>\n",
              "      <td>Kolya (1996)</td>\n",
              "    </tr>\n",
              "    <tr>\n",
              "      <th>4</th>\n",
              "      <td>306</td>\n",
              "      <td>242</td>\n",
              "      <td>5</td>\n",
              "      <td>876503793</td>\n",
              "      <td>Kolya (1996)</td>\n",
              "    </tr>\n",
              "  </tbody>\n",
              "</table>\n",
              "</div>"
            ],
            "text/plain": [
              "   userId  movieId  rating  timestamp         title\n",
              "0     196      242       3  881250949  Kolya (1996)\n",
              "1      63      242       3  875747190  Kolya (1996)\n",
              "2     226      242       5  883888671  Kolya (1996)\n",
              "3     154      242       3  879138235  Kolya (1996)\n",
              "4     306      242       5  876503793  Kolya (1996)"
            ]
          },
          "metadata": {
            "tags": []
          },
          "execution_count": 59
        }
      ]
    },
    {
      "metadata": {
        "id": "jVYLbs1plKoD",
        "colab_type": "code",
        "colab": {}
      },
      "cell_type": "code",
      "source": [
        "data = CollabDataBunch.from_df(rating_movie, seed=42, pct_val=0.1, item_name=title)"
      ],
      "execution_count": 0,
      "outputs": []
    },
    {
      "metadata": {
        "id": "H59LzONElKoQ",
        "colab_type": "code",
        "outputId": "f6fad2ed-8b0b-4cfc-f87d-40d685b7dfc6",
        "colab": {
          "base_uri": "https://localhost:8080/",
          "height": 145
        }
      },
      "cell_type": "code",
      "source": [
        "data.show_batch()"
      ],
      "execution_count": 0,
      "outputs": [
        {
          "output_type": "display_data",
          "data": {
            "text/html": [
              "<table>  <col width='10%'>  <col width='10%'>  <col width='10%'>  <tr>\n",
              "    <th>userId</th>\n",
              "    <th>title</th>\n",
              "    <th>target</th>\n",
              "  </tr>\n",
              "  <tr>\n",
              "    <th>776</th>\n",
              "    <th>Braveheart (1995)</th>\n",
              "    <th>5.0</th>\n",
              "  </tr>\n",
              "  <tr>\n",
              "    <th>290</th>\n",
              "    <th>Mary Poppins (1964)</th>\n",
              "    <th>4.0</th>\n",
              "  </tr>\n",
              "  <tr>\n",
              "    <th>280</th>\n",
              "    <th>Jurassic Park (1993)</th>\n",
              "    <th>2.0</th>\n",
              "  </tr>\n",
              "  <tr>\n",
              "    <th>454</th>\n",
              "    <th>That Old Feeling (1997)</th>\n",
              "    <th>3.0</th>\n",
              "  </tr>\n",
              "  <tr>\n",
              "    <th>270</th>\n",
              "    <th>Secret Garden, The (1993)</th>\n",
              "    <th>5.0</th>\n",
              "  </tr>\n",
              "</table>\n"
            ],
            "text/plain": [
              "<IPython.core.display.HTML object>"
            ]
          },
          "metadata": {
            "tags": []
          }
        }
      ]
    },
    {
      "metadata": {
        "id": "xIZ3HPN2lKod",
        "colab_type": "code",
        "colab": {}
      },
      "cell_type": "code",
      "source": [
        "y_range = [0,5.5]"
      ],
      "execution_count": 0,
      "outputs": []
    },
    {
      "metadata": {
        "id": "42rwQNC5lKol",
        "colab_type": "code",
        "colab": {}
      },
      "cell_type": "code",
      "source": [
        "learn = collab_learner(data, n_factors=40, y_range=y_range, wd=1e-1)"
      ],
      "execution_count": 0,
      "outputs": []
    },
    {
      "metadata": {
        "id": "FVbnjjzUlKoq",
        "colab_type": "code",
        "outputId": "c5656a46-95bf-4497-f8be-8d422d08419e",
        "colab": {
          "base_uri": "https://localhost:8080/",
          "height": 397
        }
      },
      "cell_type": "code",
      "source": [
        "learn.lr_find()\n",
        "learn.recorder.plot(skip_end=15)"
      ],
      "execution_count": 0,
      "outputs": [
        {
          "output_type": "display_data",
          "data": {
            "text/html": [
              ""
            ],
            "text/plain": [
              "<IPython.core.display.HTML object>"
            ]
          },
          "metadata": {
            "tags": []
          }
        },
        {
          "output_type": "stream",
          "text": [
            "LR Finder is complete, type {learner_name}.recorder.plot() to see the graph.\n",
            "Min numerical gradient: 2.09E-01\n"
          ],
          "name": "stdout"
        },
        {
          "output_type": "display_data",
          "data": {
            "image/png": "[encoded data removed]",
            "text/plain": [
              "<Figure size 576x396 with 1 Axes>"
            ]
          },
          "metadata": {
            "tags": []
          }
        }
      ]
    },
    {
      "metadata": {
        "id": "TBV8JblQlKow",
        "colab_type": "code",
        "outputId": "c0318fa6-42d9-4c52-e722-7ac4a6b42fcc",
        "colab": {
          "base_uri": "https://localhost:8080/",
          "height": 178
        }
      },
      "cell_type": "code",
      "source": [
        "learn.fit_one_cycle(5, 5e-3)"
      ],
      "execution_count": 0,
      "outputs": [
        {
          "output_type": "display_data",
          "data": {
            "text/html": [
              "Total time: 01:04 <p><table style='width:300px; margin-bottom:10px'>\n",
              "  <tr>\n",
              "    <th>epoch</th>\n",
              "    <th>train_loss</th>\n",
              "    <th>valid_loss</th>\n",
              "  </tr>\n",
              "  <tr>\n",
              "    <th>1</th>\n",
              "    <th>0.988046</th>\n",
              "    <th>0.954887</th>\n",
              "  </tr>\n",
              "  <tr>\n",
              "    <th>2</th>\n",
              "    <th>0.880783</th>\n",
              "    <th>0.884082</th>\n",
              "  </tr>\n",
              "  <tr>\n",
              "    <th>3</th>\n",
              "    <th>0.794405</th>\n",
              "    <th>0.839144</th>\n",
              "  </tr>\n",
              "  <tr>\n",
              "    <th>4</th>\n",
              "    <th>0.658585</th>\n",
              "    <th>0.814783</th>\n",
              "  </tr>\n",
              "  <tr>\n",
              "    <th>5</th>\n",
              "    <th>0.555555</th>\n",
              "    <th>0.812199</th>\n",
              "  </tr>\n",
              "</table>\n"
            ],
            "text/plain": [
              "<IPython.core.display.HTML object>"
            ]
          },
          "metadata": {
            "tags": []
          }
        }
      ]
    },
    {
      "metadata": {
        "id": "DMYNzfCSlKo1",
        "colab_type": "code",
        "colab": {}
      },
      "cell_type": "code",
      "source": [
        "learn.save('dotprod')"
      ],
      "execution_count": 0,
      "outputs": []
    },
    {
      "metadata": {
        "id": "ScmS8qw5lKo8",
        "colab_type": "text"
      },
      "cell_type": "markdown",
      "source": [
        "Here's [some benchmarks](https://www.librec.net/release/v1.3/example.html) on the same dataset for the popular Librec system for collaborative filtering. They show best results based on RMSE of 0.91, which corresponds to an MSE of `0.91**2 = 0.83`."
      ]
    },
    {
      "metadata": {
        "id": "AwDRJ6-RlKo-",
        "colab_type": "text"
      },
      "cell_type": "markdown",
      "source": [
        "## Interpretation"
      ]
    },
    {
      "metadata": {
        "id": "77xvGMTSlKo_",
        "colab_type": "text"
      },
      "cell_type": "markdown",
      "source": [
        "### Setup"
      ]
    },
    {
      "metadata": {
        "id": "Sux9TKxKlKpA",
        "colab_type": "code",
        "colab": {}
      },
      "cell_type": "code",
      "source": [
        "learn.load('dotprod');"
      ],
      "execution_count": 0,
      "outputs": []
    },
    {
      "metadata": {
        "id": "oFJSUNiXlKpE",
        "colab_type": "code",
        "outputId": "0b253ddd-7fea-4dfe-a612-763c8ce98f0e",
        "colab": {
          "base_uri": "https://localhost:8080/",
          "height": 125
        }
      },
      "cell_type": "code",
      "source": [
        "learn.model"
      ],
      "execution_count": 0,
      "outputs": [
        {
          "output_type": "execute_result",
          "data": {
            "text/plain": [
              "EmbeddingDotBias(\n",
              "  (u_weight): Embedding(944, 40)\n",
              "  (i_weight): Embedding(1654, 40)\n",
              "  (u_bias): Embedding(944, 1)\n",
              "  (i_bias): Embedding(1654, 1)\n",
              ")"
            ]
          },
          "metadata": {
            "tags": []
          },
          "execution_count": 69
        }
      ]
    },
    {
      "metadata": {
        "id": "xRVyczU0lKpM",
        "colab_type": "code",
        "outputId": "0d8cd452-9e0f-4dcd-928e-a3c38ad9835b",
        "colab": {
          "base_uri": "https://localhost:8080/",
          "height": 71
        }
      },
      "cell_type": "code",
      "source": [
        "g = rating_movie.groupby(title)['rating'].count()\n",
        "top_movies = g.sort_values(ascending=False).index.values[:1000]\n",
        "top_movies[:10]"
      ],
      "execution_count": 0,
      "outputs": [
        {
          "output_type": "execute_result",
          "data": {
            "text/plain": [
              "array(['Star Wars (1977)', 'Contact (1997)', 'Fargo (1996)', 'Return of the Jedi (1983)', 'Liar Liar (1997)',\n",
              "       'English Patient, The (1996)', 'Scream (1996)', 'Toy Story (1995)', 'Air Force One (1997)',\n",
              "       'Independence Day (ID4) (1996)'], dtype=object)"
            ]
          },
          "metadata": {
            "tags": []
          },
          "execution_count": 70
        }
      ]
    },
    {
      "metadata": {
        "id": "DxsRJpbNlKpR",
        "colab_type": "text"
      },
      "cell_type": "markdown",
      "source": [
        "### Movie bias"
      ]
    },
    {
      "metadata": {
        "id": "Jm8vpf-wlKpc",
        "colab_type": "code",
        "outputId": "4de989bf-e512-45f6-eb74-f712c53faf73",
        "colab": {
          "base_uri": "https://localhost:8080/",
          "height": 35
        }
      },
      "cell_type": "code",
      "source": [
        "movie_bias = learn.bias(top_movies, is_item=True)\n",
        "movie_bias.shape"
      ],
      "execution_count": 0,
      "outputs": [
        {
          "output_type": "execute_result",
          "data": {
            "text/plain": [
              "torch.Size([1000])"
            ]
          },
          "metadata": {
            "tags": []
          },
          "execution_count": 71
        }
      ]
    },
    {
      "metadata": {
        "id": "BjfsA6SIlKpi",
        "colab_type": "code",
        "colab": {}
      },
      "cell_type": "code",
      "source": [
        "mean_ratings = rating_movie.groupby(title)['rating'].mean()\n",
        "movie_ratings = [(b, i, mean_ratings.loc[i]) for i,b in zip(top_movies,movie_bias)]"
      ],
      "execution_count": 0,
      "outputs": []
    },
    {
      "metadata": {
        "id": "XXBbQzjslKpo",
        "colab_type": "code",
        "colab": {}
      },
      "cell_type": "code",
      "source": [
        "item0 = lambda o:o[0]"
      ],
      "execution_count": 0,
      "outputs": []
    },
    {
      "metadata": {
        "id": "UTXSCRjDlKpu",
        "colab_type": "code",
        "outputId": "1cc37ac1-d915-4f0d-e997-863302820024",
        "colab": {
          "base_uri": "https://localhost:8080/",
          "height": 359
        }
      },
      "cell_type": "code",
      "source": [
        "sorted(movie_ratings, key=item0)[:15]"
      ],
      "execution_count": 0,
      "outputs": [
        {
          "output_type": "execute_result",
          "data": {
            "text/plain": [
              "[(tensor(-0.3654),\n",
              "  'Children of the Corn: The Gathering (1996)',\n",
              "  1.3157894736842106),\n",
              " (tensor(-0.3171),\n",
              "  'Lawnmower Man 2: Beyond Cyberspace (1996)',\n",
              "  1.7142857142857142),\n",
              " (tensor(-0.2880), 'Cable Guy, The (1996)', 2.339622641509434),\n",
              " (tensor(-0.2701), 'Island of Dr. Moreau, The (1996)', 2.1578947368421053),\n",
              " (tensor(-0.2607), 'Mortal Kombat: Annihilation (1997)', 1.9534883720930232),\n",
              " (tensor(-0.2529), 'Crow: City of Angels, The (1996)', 1.9487179487179487),\n",
              " (tensor(-0.2469), 'Barb Wire (1996)', 1.9333333333333333),\n",
              " (tensor(-0.2466), 'Bio-Dome (1996)', 1.903225806451613),\n",
              " (tensor(-0.2458), 'Beautician and the Beast, The (1997)', 2.313953488372093),\n",
              " (tensor(-0.2333), 'Striptease (1996)', 2.2388059701492535),\n",
              " (tensor(-0.2318), 'Free Willy 3: The Rescue (1997)', 1.7407407407407407),\n",
              " (tensor(-0.2263), 'Tales from the Hood (1995)', 2.037037037037037),\n",
              " (tensor(-0.2147), \"McHale's Navy (1997)\", 2.1884057971014492),\n",
              " (tensor(-0.2117), \"Joe's Apartment (1996)\", 2.2444444444444445),\n",
              " (tensor(-0.2116), 'Grease 2 (1982)', 2.0)]"
            ]
          },
          "metadata": {
            "tags": []
          },
          "execution_count": 74
        }
      ]
    },
    {
      "metadata": {
        "id": "MLsE2nsIlKp1",
        "colab_type": "code",
        "outputId": "bdf7962f-27eb-425c-b816-3ca8936aca47",
        "colab": {
          "base_uri": "https://localhost:8080/",
          "height": 287
        }
      },
      "cell_type": "code",
      "source": [
        "sorted(movie_ratings, key=lambda o: o[0], reverse=True)[:15]"
      ],
      "execution_count": 0,
      "outputs": [
        {
          "output_type": "execute_result",
          "data": {
            "text/plain": [
              "[(tensor(0.5962), \"Schindler's List (1993)\", 4.466442953020135),\n",
              " (tensor(0.5891), 'Titanic (1997)', 4.2457142857142856),\n",
              " (tensor(0.5844), 'Shawshank Redemption, The (1994)', 4.445229681978798),\n",
              " (tensor(0.5478), 'Silence of the Lambs, The (1991)', 4.28974358974359),\n",
              " (tensor(0.5441), 'Rear Window (1954)', 4.3875598086124405),\n",
              " (tensor(0.5390), 'L.A. Confidential (1997)', 4.161616161616162),\n",
              " (tensor(0.5292), 'Star Wars (1977)', 4.3584905660377355),\n",
              " (tensor(0.5015), 'As Good As It Gets (1997)', 4.196428571428571),\n",
              " (tensor(0.4997), 'Good Will Hunting (1997)', 4.262626262626263),\n",
              " (tensor(0.4870), 'Casablanca (1942)', 4.45679012345679),\n",
              " (tensor(0.4862), 'Apt Pupil (1998)', 4.1),\n",
              " (tensor(0.4748), 'Usual Suspects, The (1995)', 4.385767790262173),\n",
              " (tensor(0.4691), 'Boot, Das (1981)', 4.203980099502488),\n",
              " (tensor(0.4679), 'Vertigo (1958)', 4.251396648044692),\n",
              " (tensor(0.4648), 'Close Shave, A (1995)', 4.491071428571429)]"
            ]
          },
          "metadata": {
            "tags": []
          },
          "execution_count": 75
        }
      ]
    },
    {
      "metadata": {
        "id": "frIowHjLlKp7",
        "colab_type": "text"
      },
      "cell_type": "markdown",
      "source": [
        "### Movie weights"
      ]
    },
    {
      "metadata": {
        "id": "tLJ09iQglKp9",
        "colab_type": "code",
        "outputId": "8574e03d-f95e-4f58-f0d6-2a64e0a6e855",
        "colab": {
          "base_uri": "https://localhost:8080/",
          "height": 35
        }
      },
      "cell_type": "code",
      "source": [
        "movie_w = learn.weight(top_movies, is_item=True)\n",
        "movie_w.shape"
      ],
      "execution_count": 0,
      "outputs": [
        {
          "output_type": "execute_result",
          "data": {
            "text/plain": [
              "torch.Size([1000, 40])"
            ]
          },
          "metadata": {
            "tags": []
          },
          "execution_count": 76
        }
      ]
    },
    {
      "metadata": {
        "id": "qMOw-SyMlKqD",
        "colab_type": "code",
        "outputId": "62e4b6e9-1d61-4178-fbda-ec785bf754f9",
        "colab": {
          "base_uri": "https://localhost:8080/",
          "height": 35
        }
      },
      "cell_type": "code",
      "source": [
        "movie_pca = movie_w.pca(3)\n",
        "movie_pca.shape"
      ],
      "execution_count": 0,
      "outputs": [
        {
          "output_type": "execute_result",
          "data": {
            "text/plain": [
              "torch.Size([1000, 3])"
            ]
          },
          "metadata": {
            "tags": []
          },
          "execution_count": 77
        }
      ]
    },
    {
      "metadata": {
        "id": "uwZNErMtlKqI",
        "colab_type": "code",
        "colab": {}
      },
      "cell_type": "code",
      "source": [
        "fac0,fac1,fac2 = movie_pca.t()\n",
        "movie_comp = [(f, i) for f,i in zip(fac0, top_movies)]"
      ],
      "execution_count": 0,
      "outputs": []
    },
    {
      "metadata": {
        "id": "uLSM3hV-lKqL",
        "colab_type": "code",
        "outputId": "e15d2b59-9f27-4bbe-8f6d-707784ab8199",
        "colab": {
          "base_uri": "https://localhost:8080/",
          "height": 215
        }
      },
      "cell_type": "code",
      "source": [
        "sorted(movie_comp, key=itemgetter(0), reverse=True)[:10]"
      ],
      "execution_count": 0,
      "outputs": [
        {
          "output_type": "execute_result",
          "data": {
            "text/plain": [
              "[(tensor(1.0770), 'When We Were Kings (1996)'),\n",
              " (tensor(1.0610), 'Wrong Trousers, The (1993)'),\n",
              " (tensor(1.0559), 'Chinatown (1974)'),\n",
              " (tensor(1.0506), 'Close Shave, A (1995)'),\n",
              " (tensor(1.0379),\n",
              "  'Dr. Strangelove or: How I Learned to Stop Worrying and Love the Bomb (1963)'),\n",
              " (tensor(1.0194), 'Casablanca (1942)'),\n",
              " (tensor(0.9783), 'North by Northwest (1959)'),\n",
              " (tensor(0.9623), 'Wallace & Gromit: The Best of Aardman Animation (1996)'),\n",
              " (tensor(0.9581), 'Ran (1985)'),\n",
              " (tensor(0.9404), 'Some Folks Call It a Sling Blade (1993)')]"
            ]
          },
          "metadata": {
            "tags": []
          },
          "execution_count": 79
        }
      ]
    },
    {
      "metadata": {
        "id": "4i0VHjuPlKqR",
        "colab_type": "code",
        "outputId": "a3f5a941-8c85-4b33-9fff-13254e09504e",
        "colab": {
          "base_uri": "https://localhost:8080/",
          "height": 197
        }
      },
      "cell_type": "code",
      "source": [
        "sorted(movie_comp, key=itemgetter(0))[:10]"
      ],
      "execution_count": 0,
      "outputs": [
        {
          "output_type": "execute_result",
          "data": {
            "text/plain": [
              "[(tensor(-1.3135), 'Home Alone 3 (1997)'),\n",
              " (tensor(-1.2227), 'Jungle2Jungle (1997)'),\n",
              " (tensor(-1.1859), \"McHale's Navy (1997)\"),\n",
              " (tensor(-1.1814), 'Bio-Dome (1996)'),\n",
              " (tensor(-1.1751), 'Children of the Corn: The Gathering (1996)'),\n",
              " (tensor(-1.1348), 'Grease 2 (1982)'),\n",
              " (tensor(-1.1114), 'Leave It to Beaver (1997)'),\n",
              " (tensor(-1.1080), 'Free Willy 3: The Rescue (1997)'),\n",
              " (tensor(-1.0998), 'Congo (1995)'),\n",
              " (tensor(-1.0996), 'D3: The Mighty Ducks (1996)')]"
            ]
          },
          "metadata": {
            "tags": []
          },
          "execution_count": 80
        }
      ]
    },
    {
      "metadata": {
        "id": "g_-TbUnIlKqX",
        "colab_type": "code",
        "colab": {}
      },
      "cell_type": "code",
      "source": [
        "movie_comp = [(f, i) for f,i in zip(fac1, top_movies)]"
      ],
      "execution_count": 0,
      "outputs": []
    },
    {
      "metadata": {
        "id": "kPnT3i1IlKqi",
        "colab_type": "code",
        "outputId": "84f12285-ce23-42bd-c91a-8b970a2e9ab8",
        "colab": {
          "base_uri": "https://localhost:8080/",
          "height": 197
        }
      },
      "cell_type": "code",
      "source": [
        "sorted(movie_comp, key=itemgetter(0), reverse=True)[:10]"
      ],
      "execution_count": 0,
      "outputs": [
        {
          "output_type": "execute_result",
          "data": {
            "text/plain": [
              "[(tensor(0.8932), 'Ready to Wear (Pret-A-Porter) (1994)'),\n",
              " (tensor(0.8833), 'Jude (1996)'),\n",
              " (tensor(0.8729), 'Keys to Tulsa (1997)'),\n",
              " (tensor(0.8115), 'Trainspotting (1996)'),\n",
              " (tensor(0.8038), 'Stupids, The (1996)'),\n",
              " (tensor(0.7798), 'Nosferatu (Nosferatu, eine Symphonie des Grauens) (1922)'),\n",
              " (tensor(0.7724), 'Dead Man (1995)'),\n",
              " (tensor(0.7432), 'Sweet Hereafter, The (1997)'),\n",
              " (tensor(0.7269), 'Showgirls (1995)'),\n",
              " (tensor(0.7263), 'Night on Earth (1991)')]"
            ]
          },
          "metadata": {
            "tags": []
          },
          "execution_count": 82
        }
      ]
    },
    {
      "metadata": {
        "id": "urtKB2nMlKqr",
        "colab_type": "code",
        "outputId": "d5737a11-73c5-4cb7-fd0f-998a1133b4cc",
        "colab": {
          "base_uri": "https://localhost:8080/",
          "height": 197
        }
      },
      "cell_type": "code",
      "source": [
        "sorted(movie_comp, key=itemgetter(0))[:10]"
      ],
      "execution_count": 0,
      "outputs": [
        {
          "output_type": "execute_result",
          "data": {
            "text/plain": [
              "[(tensor(-1.1989), 'Braveheart (1995)'),\n",
              " (tensor(-1.0875), 'Raiders of the Lost Ark (1981)'),\n",
              " (tensor(-1.0629), 'Titanic (1997)'),\n",
              " (tensor(-0.9073), \"It's a Wonderful Life (1946)\"),\n",
              " (tensor(-0.8778), 'Hunt for Red October, The (1990)'),\n",
              " (tensor(-0.8672), 'Independence Day (ID4) (1996)'),\n",
              " (tensor(-0.8644), 'Star Wars (1977)'),\n",
              " (tensor(-0.8551), 'Back to the Future (1985)'),\n",
              " (tensor(-0.8505), 'Pretty Woman (1990)'),\n",
              " (tensor(-0.8415), 'Indiana Jones and the Last Crusade (1989)')]"
            ]
          },
          "metadata": {
            "tags": []
          },
          "execution_count": 83
        }
      ]
    },
    {
      "metadata": {
        "id": "DrAyZ_XRlKq3",
        "colab_type": "code",
        "outputId": "ebaeb82b-c409-427c-8b27-d08f383c85a9",
        "colab": {
          "base_uri": "https://localhost:8080/",
          "height": 883
        }
      },
      "cell_type": "code",
      "source": [
        "idxs = np.random.choice(len(top_movies), 50, replace=False)\n",
        "idxs = list(range(50))\n",
        "X = fac0[idxs]\n",
        "Y = fac2[idxs]\n",
        "plt.figure(figsize=(15,15))\n",
        "plt.scatter(X, Y)\n",
        "for i, x, y in zip(top_movies[idxs], X, Y):\n",
        "    plt.text(x,y,i, color=np.random.rand(3)*0.7, fontsize=11)\n",
        "plt.show()"
      ],
      "execution_count": 0,
      "outputs": [
        {
          "output_type": "display_data",
          "data": {
            "image/png": "[encoded data removed]",
            "text/plain": [
              "<Figure size 1080x1080 with 1 Axes>"
            ]
          },
          "metadata": {
            "tags": []
          }
        }
      ]
    },
    {
      "metadata": {
        "id": "Bh8wHcy8lKq9",
        "colab_type": "code",
        "colab": {}
      },
      "cell_type": "code",
      "source": [
        ""
      ],
      "execution_count": 0,
      "outputs": []
    }
  ]
}